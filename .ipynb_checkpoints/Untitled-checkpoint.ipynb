{
 "cells": [
  {
   "cell_type": "raw",
   "metadata": {},
   "source": [
    "Importing gensim library."
   ]
  },
  {
   "cell_type": "code",
   "execution_count": 9,
   "metadata": {
    "collapsed": true,
    "deletable": true,
    "editable": true
   },
   "outputs": [],
   "source": [
    "import gensim"
   ]
  },
  {
   "cell_type": "markdown",
   "metadata": {},
   "source": [
    "Selecting 'trained file'. (for training the files, run the gens-train.py)"
   ]
  },
  {
   "cell_type": "code",
   "execution_count": 10,
   "metadata": {
    "collapsed": true
   },
   "outputs": [],
   "source": [
    "model = gensim.models.Word2Vec.load(\"w2v-files/dunya.w2v\")"
   ]
  },
  {
   "cell_type": "raw",
   "metadata": {},
   "source": [
    "Word list for distances. Will be loaded from tweets. "
   ]
  },
  {
   "cell_type": "code",
   "execution_count": 11,
   "metadata": {
    "collapsed": true
   },
   "outputs": [],
   "source": [
    "word_list = ['iran','bilgisayar','öfke','sovyet','öykü','terminoloji','ayşe','recep']"
   ]
  },
  {
   "cell_type": "raw",
   "metadata": {},
   "source": [
    "Trying the list of words. Returns the (topn=#) # of words that are most close. If not exits, catches exception."
   ]
  },
  {
   "cell_type": "code",
   "execution_count": 12,
   "metadata": {
    "collapsed": false
   },
   "outputs": [
    {
     "name": "stdout",
     "output_type": "stream",
     "text": [
      "\n",
      "iran :  [('tahran', 0.7778638601303101), ('ahmedinejad', 0.7025203108787537), ('mısır', 0.6897801160812378), ('lübnan', 0.6680134534835815), ('hizbullah', 0.6546710133552551), ('katar', 0.643734872341156), ('esad', 0.6313918232917786), ('ermenistan', 0.6271696090698242), ('pyongyang', 0.6157870292663574), ('şam', 0.6018038392066956)]\n",
      "\n",
      "bilgisayar :  [('robot', 0.774869441986084), ('şirketin', 0.751285195350647), ('hacker', 0.7506960034370422), ('uydu', 0.7487369775772095), ('kamera', 0.7343283891677856), ('yazılım', 0.7269895076751709), ('elektronik', 0.7266749739646912), ('metal', 0.7111088037490845), ('üreten', 0.705659031867981), ('off', 0.6861335039138794)]\n",
      "\n",
      "öfke :  [('şaşkınlık', 0.7483245730400085), ('sevinç', 0.7432321310043335), ('infial', 0.7316869497299194), ('yıkım', 0.7273309230804443), ('korku', 0.7127455472946167), ('acılar', 0.6965787410736084), ('gürültü', 0.6955596208572388), ('şok', 0.680432915687561), ('yaşadı', 0.6739668250083923), ('yaşattı', 0.668377161026001)]\n",
      "\n",
      "sovyet :  [('yugoslavya', 0.7087117433547974), ('sırp', 0.6639537215232849), ('cumhuriyetleri', 0.6574410200119019), ('kolombiya', 0.6432092189788818), ('bolşevik', 0.6234403848648071), ('cumhuriyetlerinden', 0.6038260459899902), ('yugoslav', 0.5972557067871094), ('vietnam', 0.5948829650878906), ('sovyetler', 0.5929533839225769), ('sscb', 0.5881943702697754)]\n",
      "\n",
      "öykü :  [('eserinden', 0.786200225353241), ('şarkısına', 0.7519145011901855), ('pnas', 0.7466341853141785), ('resmeden', 0.7444935441017151), ('minyatür', 0.7412747740745544), ('oyuncuları', 0.7389521598815918), ('biyografi', 0.7378056645393372), ('otobiyografik', 0.7368309497833252), ('hargreaves', 0.7322099208831787), ('isimdi', 0.7305393815040588)]\n",
      "\n",
      "Error: \"word 'terminoloji' not in vocabulary\"\n",
      "\n",
      "ayşe :  [('fatma', 0.8324598670005798), ('torunu', 0.8013796806335449), ('amcası', 0.7893304824829102), ('zeynep', 0.7878171801567078), ('eddie', 0.7868508100509644), ('sandra', 0.7852421998977661), ('yeğeni', 0.7812833786010742), ('kenan', 0.7789394855499268), ('yaşar', 0.7763035297393799), ('arslan', 0.7754787802696228)]\n",
      "\n",
      "recep :  [('tayyip', 0.897707462310791), ('erdoğan', 0.7023676633834839), ('sayın', 0.6623070240020752), ('arınç', 0.6136883497238159), ('sarkisyan', 0.6076817512512207), ('cumhurbaşkanımızın', 0.6070024967193604), ('vuçiç', 0.6050901412963867), ('peker', 0.6045817732810974), ('pahor', 0.5942561030387878), ('başbakanımız', 0.5923260450363159)]\n"
     ]
    }
   ],
   "source": [
    "for word in word_list:\n",
    "    try:\n",
    "        print(\"\\n{} : \".format(word), model.most_similar(word,topn=10))\n",
    "    except Exception as e:\n",
    "        print(\"\\nError: {}\".format(e))"
   ]
  },
  {
   "cell_type": "code",
   "execution_count": null,
   "metadata": {
    "collapsed": true
   },
   "outputs": [],
   "source": []
  }
 ],
 "metadata": {
  "kernelspec": {
   "display_name": "Python 3",
   "language": "python",
   "name": "python3"
  },
  "language_info": {
   "codemirror_mode": {
    "name": "ipython",
    "version": 3
   },
   "file_extension": ".py",
   "mimetype": "text/x-python",
   "name": "python",
   "nbconvert_exporter": "python",
   "pygments_lexer": "ipython3",
   "version": "3.6.0"
  }
 },
 "nbformat": 4,
 "nbformat_minor": 2
}
